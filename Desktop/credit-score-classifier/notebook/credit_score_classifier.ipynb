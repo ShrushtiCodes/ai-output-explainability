{
 "cells": [
  {
   "cell_type": "code",
   "execution_count": 2,
   "id": "20b5baff",
   "metadata": {},
   "outputs": [
    {
     "name": "stdout",
     "output_type": "stream",
     "text": [
      "Dataset saved to ../data/credit_data.csv\n",
      "Prediction report saved to ../output/risk_predictions.csv\n"
     ]
    },
    {
     "name": "stderr",
     "output_type": "stream",
     "text": [
      "/Users/shrushta/opt/anaconda3/lib/python3.9/site-packages/sklearn/utils/validation.py:623: FutureWarning: is_sparse is deprecated and will be removed in a future version. Check `isinstance(dtype, pd.SparseDtype)` instead.\n",
      "  if not hasattr(array, \"sparse\") and array.dtypes.apply(is_sparse).any():\n",
      "/Users/shrushta/opt/anaconda3/lib/python3.9/site-packages/sklearn/utils/validation.py:623: FutureWarning: is_sparse is deprecated and will be removed in a future version. Check `isinstance(dtype, pd.SparseDtype)` instead.\n",
      "  if not hasattr(array, \"sparse\") and array.dtypes.apply(is_sparse).any():\n"
     ]
    },
    {
     "name": "stdout",
     "output_type": "stream",
     "text": [
      "Files uploaded to S3 successfully!\n"
     ]
    }
   ],
   "source": [
    "\n",
    "\"\"\"\n",
    "Title: Credit Score Risk Classifier\n",
    "Description: A simple ML pipeline to classify credit risk levels and store outputs in AWS S3.\n",
    "\"\"\"\n",
    "\n",
    "# Step 1: Import Libraries\n",
    "import pandas as pd\n",
    "import numpy as np\n",
    "from sklearn.model_selection import train_test_split\n",
    "from sklearn.ensemble import RandomForestClassifier\n",
    "from sklearn.metrics import classification_report\n",
    "import boto3\n",
    "import os\n",
    "\n",
    "# Step 2: Simulate Dataset\n",
    "data = pd.DataFrame({\n",
    "    'age': np.random.randint(21, 70, 100),\n",
    "    'income': np.random.randint(20000, 120000, 100),\n",
    "    'loan_amount': np.random.randint(1000, 50000, 100),\n",
    "    'credit_score': np.random.randint(300, 850, 100),\n",
    "})\n",
    "\n",
    "def label_risk(score):\n",
    "    if score < 580:\n",
    "        return 'High'\n",
    "    elif score < 670:\n",
    "        return 'Medium'\n",
    "    else:\n",
    "        return 'Low'\n",
    "\n",
    "data['risk'] = data['credit_score'].apply(label_risk)\n",
    "\n",
    "# Save dataset locally\n",
    "os.makedirs('../data', exist_ok=True)\n",
    "data_path = '../data/credit_data.csv'\n",
    "data.to_csv(data_path, index=False)\n",
    "print(f\"Dataset saved to {data_path}\")\n",
    "\n",
    "# Step 3: Train/Test Split and Model Training\n",
    "X = data.drop('risk', axis=1)\n",
    "y = data['risk']\n",
    "\n",
    "X_train, X_test, y_train, y_test = train_test_split(X, y, test_size=0.2, random_state=42)\n",
    "model = RandomForestClassifier(n_estimators=100, random_state=42)\n",
    "model.fit(X_train, y_train)\n",
    "\n",
    "# Step 4: Predict and Save Results\n",
    "y_pred = model.predict(X_test)\n",
    "report = classification_report(y_test, y_pred, output_dict=True)\n",
    "results_df = pd.DataFrame(report).transpose()\n",
    "\n",
    "# Save results locally\n",
    "os.makedirs('../output', exist_ok=True)\n",
    "results_path = '../output/risk_predictions.csv'\n",
    "results_df.to_csv(results_path)\n",
    "print(f\"Prediction report saved to {results_path}\")\n",
    "\n",
    "# Step 5: Upload to AWS S3 (Ensure aws configure is done)\n",
    "s3 = boto3.client('s3', region_name='us-east-1')  # correct region\n",
    "bucket_name = 'shrushti-credit-bucket'  #  bucket name created on s3 aws\n",
    "  \n",
    "\n",
    "# Upload both files\n",
    "s3.upload_file(data_path, bucket_name, 'input/credit_data.csv')\n",
    "s3.upload_file(results_path, bucket_name, 'output/risk_predictions.csv')\n",
    "\n",
    "print(\"Files uploaded to S3 successfully!\")\n"
   ]
  },
  {
   "cell_type": "code",
   "execution_count": null,
   "id": "b145e83d",
   "metadata": {},
   "outputs": [],
   "source": []
  }
 ],
 "metadata": {
  "kernelspec": {
   "display_name": "Python 3 (ipykernel)",
   "language": "python",
   "name": "python3"
  },
  "language_info": {
   "codemirror_mode": {
    "name": "ipython",
    "version": 3
   },
   "file_extension": ".py",
   "mimetype": "text/x-python",
   "name": "python",
   "nbconvert_exporter": "python",
   "pygments_lexer": "ipython3",
   "version": "3.9.12"
  }
 },
 "nbformat": 4,
 "nbformat_minor": 5
}
